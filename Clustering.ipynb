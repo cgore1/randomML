{
 "cells": [
  {
   "cell_type": "code",
   "execution_count": 1,
   "metadata": {
    "collapsed": false
   },
   "outputs": [
    {
     "name": "stdout",
     "output_type": "stream",
     "text": [
      "[[ 7.33333333  9.        ]\n",
      " [ 1.16666667  1.46666667]]\n",
      "[1 0 1 0 1 0]\n",
      "('coordinate:', array([ 1.,  2.]), 'label', 1)\n",
      "('coordinate:', array([ 5.,  8.]), 'label', 0)\n",
      "('coordinate:', array([ 1.5,  1.8]), 'label', 1)\n",
      "('coordinate:', array([ 8.,  8.]), 'label', 0)\n",
      "('coordinate:', array([ 1. ,  0.6]), 'label', 1)\n",
      "('coordinate:', array([  9.,  11.]), 'label', 0)\n"
     ]
    }
   ],
   "source": [
    "import numpy as np\n",
    "import matplotlib.pyplot as plt\n",
    "from matplotlib import style\n",
    "style.use(\"ggplot\")\n",
    "\n",
    "from sklearn.cluster import KMeans\n",
    "\n",
    "x = [1, 5, 1.5, 8, 1 ,9]\n",
    "y = [2, 8, 1.8, 8, 0.6, 11]\n",
    "\n",
    "#plt.scatter(x,y)\n",
    "#plt.show()\n",
    "\n",
    "X = np.array([ [1,2], [5,8], [1.5, 1.8], [8,8], [1,0.6], [9,11]])\n",
    "\n",
    "kmeans = KMeans(n_clusters = 2) # flat clustering\n",
    "kmeans.fit(X)\n",
    "\n",
    "centroids = kmeans.cluster_centers_\n",
    "labels = kmeans.labels_\n",
    "\n",
    "print(centroids)\n",
    "print(labels)\n",
    "\n",
    "colors = [\"g.\", \"r.\"]\n",
    "\n",
    "for i in range(len(X)):\n",
    "    print(\"coordinate:\", X[i], \"label\", labels[i])\n",
    "    plt.plot(X[i][0], X[i][1], colors[labels[i]], markersize = 10)\n",
    "    \n",
    "plt.scatter(centroids[:, 0], centroids[:, 1], marker = \"x\", s=150, linewidths=5, zorder=10)\n",
    "plt.show()"
   ]
  },
  {
   "cell_type": "code",
   "execution_count": null,
   "metadata": {
    "collapsed": true
   },
   "outputs": [],
   "source": [
    "# Hierarchical"
   ]
  },
  {
   "cell_type": "code",
   "execution_count": null,
   "metadata": {
    "collapsed": true
   },
   "outputs": [],
   "source": []
  }
 ],
 "metadata": {
  "kernelspec": {
   "display_name": "Python 2",
   "language": "python",
   "name": "python2"
  },
  "language_info": {
   "codemirror_mode": {
    "name": "ipython",
    "version": 2
   },
   "file_extension": ".py",
   "mimetype": "text/x-python",
   "name": "python",
   "nbconvert_exporter": "python",
   "pygments_lexer": "ipython2",
   "version": "2.7.10"
  }
 },
 "nbformat": 4,
 "nbformat_minor": 0
}
