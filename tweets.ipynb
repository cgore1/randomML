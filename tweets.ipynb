{
 "cells": [
  {
   "cell_type": "code",
   "execution_count": 1,
   "metadata": {
    "collapsed": false
   },
   "outputs": [
    {
     "ename": "ImportError",
     "evalue": "No module named tweepy",
     "output_type": "error",
     "traceback": [
      "\u001b[1;31m---------------------------------------------------------------------------\u001b[0m",
      "\u001b[1;31mImportError\u001b[0m                               Traceback (most recent call last)",
      "\u001b[1;32m<ipython-input-1-918c95569197>\u001b[0m in \u001b[0;36m<module>\u001b[1;34m()\u001b[0m\n\u001b[1;32m----> 1\u001b[1;33m \u001b[1;32mimport\u001b[0m \u001b[0mtweepy\u001b[0m\u001b[1;33m\u001b[0m\u001b[0m\n\u001b[0m\u001b[0;32m      2\u001b[0m \u001b[1;32mimport\u001b[0m \u001b[0mtime\u001b[0m\u001b[1;33m\u001b[0m\u001b[0m\n\u001b[0;32m      3\u001b[0m \u001b[1;32mimport\u001b[0m \u001b[0mwebbrowser\u001b[0m\u001b[1;33m\u001b[0m\u001b[0m\n\u001b[0;32m      4\u001b[0m \u001b[1;32mimport\u001b[0m \u001b[0mcodecs\u001b[0m\u001b[1;33m\u001b[0m\u001b[0m\n\u001b[0;32m      5\u001b[0m \u001b[1;32mimport\u001b[0m \u001b[0mos\u001b[0m\u001b[1;33m.\u001b[0m\u001b[0mpath\u001b[0m\u001b[1;33m\u001b[0m\u001b[0m\n",
      "\u001b[1;31mImportError\u001b[0m: No module named tweepy"
     ]
    }
   ],
   "source": [
    "import tweepy\n",
    "import time\n",
    "import webbrowser\n",
    "import codecs\n",
    "import os.path\n",
    "import cgi\n",
    "import sqlite3"
   ]
  },
  {
   "cell_type": "code",
   "execution_count": 5,
   "metadata": {
    "collapsed": false
   },
   "outputs": [
    {
     "data": {
      "text/plain": [
       "u'C:\\\\Users\\\\cHinmaY'"
      ]
     },
     "execution_count": 5,
     "metadata": {},
     "output_type": "execute_result"
    }
   ],
   "source": [
    "pwd"
   ]
  },
  {
   "cell_type": "code",
   "execution_count": 6,
   "metadata": {
    "collapsed": false
   },
   "outputs": [
    {
     "name": "stdout",
     "output_type": "stream",
     "text": [
      " Volume in drive C is Acer\n",
      " Volume Serial Number is 2235-278F\n",
      "\n",
      " Directory of C:\\Users\\cHinmaY\n",
      "\n",
      "02/08/2016  11:16 AM    <DIR>          .\n",
      "02/08/2016  11:16 AM    <DIR>          ..\n",
      "12/28/2015  08:57 PM    <DIR>          .android\n",
      "12/25/2015  05:38 PM                30 .appcfg_nag\n",
      "12/25/2015  05:23 PM             1,970 .appcfg_oauth2_tokens\n",
      "01/22/2016  10:57 PM               185 .bash_history\n",
      "01/23/2016  03:34 PM    <DIR>          .config\n",
      "12/22/2015  09:55 PM    <DIR>          .continuum\n",
      "01/19/2016  11:32 AM               343 .dbshell\n",
      "11/06/2015  12:17 AM    <DIR>          .eclipse\n",
      "10/06/2015  12:33 AM               139 .gitconfig\n",
      "12/23/2015  10:12 AM    <DIR>          .graphlab\n",
      "12/27/2015  12:10 PM    <DIR>          .gsutil\n",
      "09/29/2015  10:50 PM    <DIR>          .idlerc\n",
      "02/08/2016  10:59 AM    <DIR>          .ipynb_checkpoints\n",
      "12/22/2015  10:40 PM    <DIR>          .ipython\n",
      "12/27/2015  12:30 PM    <DIR>          .kube\n",
      "01/30/2016  01:29 PM    <DIR>          .m2\n",
      "01/27/2016  01:36 AM    <DIR>          .matplotlib\n",
      "01/19/2016  10:53 AM                 0 .mongorc.js\n",
      "01/19/2016  11:40 AM                12 .node_repl_history\n",
      "10/01/2015  12:57 PM    <DIR>          .oracle_jre_usage\n",
      "02/08/2016  09:13 AM    <DIR>          .p2\n",
      "10/06/2015  12:33 AM    <DIR>          .ssh\n",
      "10/04/2015  09:17 AM    <DIR>          .swt\n",
      "02/02/2016  01:40 AM    <DIR>          .VirtualBox\n",
      "12/06/2015  08:50 AM    <DIR>          .zenmap\n",
      "12/13/2015  11:02 AM    <DIR>          3D Objects\n",
      "01/16/2016  12:59 PM           642,068 Analyzing product sentiment.ipynb\n",
      "10/05/2015  07:12 PM    <DIR>          C_ws\n",
      "12/31/2015  12:48 PM             1,996 Clustering.ipynb\n",
      "10/23/2015  06:38 PM    <DIR>          CmapToolsLogs\n",
      "01/28/2016  10:39 AM    <DIR>          Contacts\n",
      "10/17/2015  06:47 PM    <DIR>          csvkit\n",
      "01/21/2016  06:35 PM           139,286 Deep Features for Image Classification.ipynb\n",
      "01/27/2016  01:57 AM           621,989 Deep Features for Image Retrieval.ipynb\n",
      "02/06/2016  09:07 PM    <DIR>          Desktop\n",
      "11/08/2015  03:25 PM    <DIR>          dmos\n",
      "01/23/2016  08:31 PM           641,299 document-retrieval.ipynb\n",
      "01/28/2016  10:39 AM    <DIR>          Documents\n",
      "02/08/2016  09:48 AM    <DIR>          Downloads\n",
      "09/10/2015  10:02 PM    <DIR>          Dropbox\n",
      "01/24/2016  05:51 AM                 0 dump.json\n",
      "01/11/2016  10:23 PM             5,271 Eventbrite.ipynb\n",
      "01/28/2016  10:39 AM    <DIR>          Favorites\n",
      "11/16/2015  11:32 PM    <DIR>          git\n",
      "12/25/2015  05:18 PM    <DIR>          Google\n",
      "01/24/2016  06:47 AM           893,895 HackAz.ipynb\n",
      "01/24/2016  01:10 AM         1,219,999 HackAz-Copy1.ipynb\n",
      "11/06/2015  12:00 AM    <DIR>          javaWS\n",
      "02/08/2016  09:13 AM    <DIR>          lab\n",
      "01/28/2016  10:39 AM    <DIR>          Links\n",
      "01/28/2016  10:39 AM    <DIR>          Music\n",
      "12/30/2015  06:33 PM             2,048 ok\n",
      "11/19/2015  01:49 PM    <DIR>          OneDrive\n",
      "08/18/2015  01:52 PM    <DIR>          PicStream\n",
      "01/28/2016  10:39 AM    <DIR>          Pictures\n",
      "01/05/2016  11:30 AM    <DIR>          practice\n",
      "01/07/2016  03:13 PM           478,599 Predicting house prices.ipynb\n",
      "09/29/2015  12:22 PM    <DIR>          pythonWS\n",
      "01/05/2016  01:25 AM            39,796 Regression.ipynb\n",
      "01/28/2016  10:39 AM    <DIR>          Saved Games\n",
      "01/28/2016  10:39 AM    <DIR>          Searches\n",
      "01/21/2016  12:27 AM        14,841,985 Song recommender.ipynb\n",
      "09/13/2015  02:04 PM    <DIR>          swm\n",
      "11/25/2015  04:37 PM    <DIR>          tethne\n",
      "09/28/2015  11:06 AM    <DIR>          Tracing\n",
      "01/22/2016  10:27 PM    <DIR>          tweepy\n",
      "02/08/2016  11:16 AM             2,457 tweets.ipynb\n",
      "01/06/2016  10:45 AM             6,479 Untitled.ipynb\n",
      "12/23/2015  10:12 AM                78 Untitled1.ipynb\n",
      "01/19/2016  12:17 AM            12,923 Untitled2.ipynb\n",
      "01/23/2016  04:30 PM                78 Untitled3.ipynb\n",
      "02/08/2016  09:03 AM    <DIR>          Videos\n",
      "02/01/2016  02:55 PM    <DIR>          VirtualBox VMs\n",
      "02/08/2016  09:55 AM    <DIR>          workspace\n",
      "09/01/2015  11:37 PM    <DIR>          workspace1\n",
      "              25 File(s)     19,552,925 bytes\n",
      "              52 Dir(s)  357,593,841,664 bytes free\n"
     ]
    }
   ],
   "source": [
    "ls"
   ]
  },
  {
   "cell_type": "code",
   "execution_count": 7,
   "metadata": {
    "collapsed": false
   },
   "outputs": [
    {
     "name": "stdout",
     "output_type": "stream",
     "text": [
      "C:\\Users\\cHinmaY\\tweepy\n"
     ]
    }
   ],
   "source": [
    "cd tweepy"
   ]
  },
  {
   "cell_type": "code",
   "execution_count": 8,
   "metadata": {
    "collapsed": false
   },
   "outputs": [
    {
     "name": "stdout",
     "output_type": "stream",
     "text": [
      " Volume in drive C is Acer\n",
      " Volume Serial Number is 2235-278F\n",
      "\n",
      " Directory of C:\\Users\\cHinmaY\\tweepy\n",
      "\n",
      "01/22/2016  10:27 PM    <DIR>          .\n",
      "01/22/2016  10:27 PM    <DIR>          ..\n",
      "01/22/2016  10:27 PM                82 .coveragerc\n",
      "01/22/2016  10:27 PM                99 .gitignore\n",
      "01/22/2016  10:27 PM             1,875 .travis.yml\n",
      "01/22/2016  10:27 PM               270 ASCII_LOGO.txt\n",
      "01/22/2016  10:27 PM               869 bindings_url_parser.py\n",
      "01/22/2016  10:27 PM    <DIR>          cassettes\n",
      "01/22/2016  10:27 PM             4,617 CHANGELOG.md\n",
      "01/22/2016  10:27 PM               663 CONTRIBUTORS\n",
      "01/22/2016  10:27 PM    <DIR>          docs\n",
      "01/22/2016  10:27 PM    <DIR>          examples\n",
      "01/22/2016  10:27 PM             1,097 LICENSE\n",
      "01/22/2016  10:27 PM                26 MANIFEST.in\n",
      "01/22/2016  10:27 PM             1,479 README.md\n",
      "01/22/2016  10:27 PM                55 requirements.txt\n",
      "01/22/2016  10:27 PM                30 setup.cfg\n",
      "01/22/2016  10:27 PM             1,547 setup.py\n",
      "01/22/2016  10:27 PM                95 test_requirements.txt\n",
      "01/22/2016  10:27 PM    <DIR>          tests\n",
      "01/22/2016  10:27 PM               641 tox.ini\n",
      "01/22/2016  10:27 PM    <DIR>          tweepy\n",
      "              15 File(s)         13,445 bytes\n",
      "               7 Dir(s)  357,594,365,952 bytes free\n"
     ]
    }
   ],
   "source": [
    "ls"
   ]
  },
  {
   "cell_type": "code",
   "execution_count": 9,
   "metadata": {
    "collapsed": false
   },
   "outputs": [
    {
     "ename": "SyntaxError",
     "evalue": "invalid syntax (<ipython-input-9-0964efb811bd>, line 1)",
     "output_type": "error",
     "traceback": [
      "\u001b[1;36m  File \u001b[1;32m\"<ipython-input-9-0964efb811bd>\"\u001b[1;36m, line \u001b[1;32m1\u001b[0m\n\u001b[1;33m    setup.py install\u001b[0m\n\u001b[1;37m                   ^\u001b[0m\n\u001b[1;31mSyntaxError\u001b[0m\u001b[1;31m:\u001b[0m invalid syntax\n"
     ]
    }
   ],
   "source": [
    "setup.py install"
   ]
  },
  {
   "cell_type": "code",
   "execution_count": 10,
   "metadata": {
    "collapsed": false
   },
   "outputs": [
    {
     "ename": "NameError",
     "evalue": "name 'python' is not defined",
     "output_type": "error",
     "traceback": [
      "\u001b[1;31m---------------------------------------------------------------------------\u001b[0m",
      "\u001b[1;31mNameError\u001b[0m                                 Traceback (most recent call last)",
      "\u001b[1;32m<ipython-input-10-4a69013be9f0>\u001b[0m in \u001b[0;36m<module>\u001b[1;34m()\u001b[0m\n\u001b[1;32m----> 1\u001b[1;33m \u001b[0mpython\u001b[0m\u001b[1;33m\u001b[0m\u001b[0m\n\u001b[0m",
      "\u001b[1;31mNameError\u001b[0m: name 'python' is not defined"
     ]
    }
   ],
   "source": [
    "python"
   ]
  },
  {
   "cell_type": "code",
   "execution_count": 11,
   "metadata": {
    "collapsed": false
   },
   "outputs": [
    {
     "ename": "NameError",
     "evalue": "name 'setup' is not defined",
     "output_type": "error",
     "traceback": [
      "\u001b[1;31m---------------------------------------------------------------------------\u001b[0m",
      "\u001b[1;31mNameError\u001b[0m                                 Traceback (most recent call last)",
      "\u001b[1;32m<ipython-input-11-40439b1d7c92>\u001b[0m in \u001b[0;36m<module>\u001b[1;34m()\u001b[0m\n\u001b[1;32m----> 1\u001b[1;33m \u001b[0msetup\u001b[0m\u001b[1;33m.\u001b[0m\u001b[0mpy\u001b[0m\u001b[1;33m\u001b[0m\u001b[0m\n\u001b[0m",
      "\u001b[1;31mNameError\u001b[0m: name 'setup' is not defined"
     ]
    }
   ],
   "source": [
    "setup.py"
   ]
  },
  {
   "cell_type": "code",
   "execution_count": 12,
   "metadata": {
    "collapsed": false
   },
   "outputs": [
    {
     "ename": "NameError",
     "evalue": "name 'setup' is not defined",
     "output_type": "error",
     "traceback": [
      "\u001b[1;31m---------------------------------------------------------------------------\u001b[0m",
      "\u001b[1;31mNameError\u001b[0m                                 Traceback (most recent call last)",
      "\u001b[1;32m<ipython-input-12-d460003bc854>\u001b[0m in \u001b[0;36m<module>\u001b[1;34m()\u001b[0m\n\u001b[1;32m----> 1\u001b[1;33m \u001b[0msetup\u001b[0m\u001b[1;33m\u001b[0m\u001b[0m\n\u001b[0m",
      "\u001b[1;31mNameError\u001b[0m: name 'setup' is not defined"
     ]
    }
   ],
   "source": [
    "setup"
   ]
  },
  {
   "cell_type": "code",
   "execution_count": 15,
   "metadata": {
    "collapsed": false
   },
   "outputs": [
    {
     "name": "stdout",
     "output_type": "stream",
     "text": [
      "running install\n",
      "running bdist_egg\n",
      "running egg_info\n",
      "creating tweepy.egg-info\n",
      "writing requirements to tweepy.egg-info\\requires.txt\n",
      "writing tweepy.egg-info\\PKG-INFO\n",
      "writing top-level names to tweepy.egg-info\\top_level.txt\n",
      "writing dependency_links to tweepy.egg-info\\dependency_links.txt\n",
      "writing manifest file 'tweepy.egg-info\\SOURCES.txt'\n",
      "reading manifest file 'tweepy.egg-info\\SOURCES.txt'\n",
      "reading manifest template 'MANIFEST.in'\n",
      "writing manifest file 'tweepy.egg-info\\SOURCES.txt'\n",
      "installing library code to build\\bdist.win-amd64\\egg\n",
      "running install_lib\n",
      "running build_py\n",
      "creating build\n",
      "creating build\\lib\n",
      "creating build\\lib\\examples\n",
      "copying examples\\oauth.py -> build\\lib\\examples\n",
      "copying examples\\streaming.py -> build\\lib\\examples\n",
      "copying examples\\__init__.py -> build\\lib\\examples\n",
      "creating build\\lib\\tweepy\n",
      "copying tweepy\\api.py -> build\\lib\\tweepy\n",
      "copying tweepy\\auth.py -> build\\lib\\tweepy\n",
      "copying tweepy\\binder.py -> build\\lib\\tweepy\n",
      "copying tweepy\\cache.py -> build\\lib\\tweepy\n",
      "copying tweepy\\cursor.py -> build\\lib\\tweepy\n",
      "copying tweepy\\error.py -> build\\lib\\tweepy\n",
      "copying tweepy\\models.py -> build\\lib\\tweepy\n",
      "copying tweepy\\parsers.py -> build\\lib\\tweepy\n",
      "copying tweepy\\streaming.py -> build\\lib\\tweepy\n",
      "copying tweepy\\utils.py -> build\\lib\\tweepy\n",
      "copying tweepy\\__init__.py -> build\\lib\\tweepy\n",
      "creating build\\bdist.win-amd64\n",
      "creating build\\bdist.win-amd64\\egg\n",
      "creating build\\bdist.win-amd64\\egg\\examples\n",
      "copying build\\lib\\examples\\oauth.py -> build\\bdist.win-amd64\\egg\\examples\n",
      "copying build\\lib\\examples\\streaming.py -> build\\bdist.win-amd64\\egg\\examples\n",
      "copying build\\lib\\examples\\__init__.py -> build\\bdist.win-amd64\\egg\\examples\n",
      "creating build\\bdist.win-amd64\\egg\\tweepy\n",
      "copying build\\lib\\tweepy\\api.py -> build\\bdist.win-amd64\\egg\\tweepy\n",
      "copying build\\lib\\tweepy\\auth.py -> build\\bdist.win-amd64\\egg\\tweepy\n",
      "copying build\\lib\\tweepy\\binder.py -> build\\bdist.win-amd64\\egg\\tweepy\n",
      "copying build\\lib\\tweepy\\cache.py -> build\\bdist.win-amd64\\egg\\tweepy\n",
      "copying build\\lib\\tweepy\\cursor.py -> build\\bdist.win-amd64\\egg\\tweepy\n",
      "copying build\\lib\\tweepy\\error.py -> build\\bdist.win-amd64\\egg\\tweepy\n",
      "copying build\\lib\\tweepy\\models.py -> build\\bdist.win-amd64\\egg\\tweepy\n",
      "copying build\\lib\\tweepy\\parsers.py -> build\\bdist.win-amd64\\egg\\tweepy\n",
      "copying build\\lib\\tweepy\\streaming.py -> build\\bdist.win-amd64\\egg\\tweepy\n",
      "copying build\\lib\\tweepy\\utils.py -> build\\bdist.win-amd64\\egg\\tweepy\n",
      "copying build\\lib\\tweepy\\__init__.py -> build\\bdist.win-amd64\\egg\\tweepy\n",
      "byte-compiling build\\bdist.win-amd64\\egg\\examples\\oauth.py to oauth.pyc\n",
      "byte-compiling build\\bdist.win-amd64\\egg\\examples\\streaming.py to streaming.pyc\n",
      "byte-compiling build\\bdist.win-amd64\\egg\\examples\\__init__.py to __init__.pyc\n",
      "byte-compiling build\\bdist.win-amd64\\egg\\tweepy\\api.py to api.pyc\n",
      "byte-compiling build\\bdist.win-amd64\\egg\\tweepy\\auth.py to auth.pyc\n",
      "byte-compiling build\\bdist.win-amd64\\egg\\tweepy\\binder.py to binder.pyc\n",
      "byte-compiling build\\bdist.win-amd64\\egg\\tweepy\\cache.py to cache.pyc\n",
      "byte-compiling build\\bdist.win-amd64\\egg\\tweepy\\cursor.py to cursor.pyc\n",
      "byte-compiling build\\bdist.win-amd64\\egg\\tweepy\\error.py to error.pyc\n",
      "byte-compiling build\\bdist.win-amd64\\egg\\tweepy\\models.py to models.pyc\n",
      "byte-compiling build\\bdist.win-amd64\\egg\\tweepy\\parsers.py to parsers.pyc\n",
      "byte-compiling build\\bdist.win-amd64\\egg\\tweepy\\streaming.py to streaming.pyc\n",
      "byte-compiling build\\bdist.win-amd64\\egg\\tweepy\\utils.py to utils.pyc\n",
      "byte-compiling build\\bdist.win-amd64\\egg\\tweepy\\__init__.py to __init__.pyc\n",
      "creating build\\bdist.win-amd64\\egg\\EGG-INFO\n",
      "copying tweepy.egg-info\\PKG-INFO -> build\\bdist.win-amd64\\egg\\EGG-INFO\n",
      "copying tweepy.egg-info\\SOURCES.txt -> build\\bdist.win-amd64\\egg\\EGG-INFO\n",
      "copying tweepy.egg-info\\dependency_links.txt -> build\\bdist.win-amd64\\egg\\EGG-INFO\n",
      "copying tweepy.egg-info\\requires.txt -> build\\bdist.win-amd64\\egg\\EGG-INFO\n",
      "copying tweepy.egg-info\\top_level.txt -> build\\bdist.win-amd64\\egg\\EGG-INFO\n",
      "copying tweepy.egg-info\\zip-safe -> build\\bdist.win-amd64\\egg\\EGG-INFO\n",
      "creating dist\n",
      "creating 'dist\\tweepy-3.5.0-py2.7.egg' and adding 'build\\bdist.win-amd64\\egg' to it\n",
      "removing 'build\\bdist.win-amd64\\egg' (and everything under it)\n",
      "Processing tweepy-3.5.0-py2.7.egg\n",
      "Copying tweepy-3.5.0-py2.7.egg to c:\\users\\chinmay\\appdata\\local\\dato\\dato launcher\\lib\\site-packages\n",
      "Adding tweepy 3.5.0 to easy-install.pth file\n",
      "\n",
      "Installed c:\\users\\chinmay\\appdata\\local\\dato\\dato launcher\\lib\\site-packages\\tweepy-3.5.0-py2.7.egg\n",
      "Processing dependencies for tweepy==3.5.0\n",
      "Searching for requests-oauthlib>=0.4.1\n",
      "Reading https://pypi.python.org/simple/requests-oauthlib/\n",
      "Best match: requests-oauthlib 0.6.0\n",
      "Downloading https://pypi.python.org/packages/source/r/requests-oauthlib/requests-oauthlib-0.6.0.tar.gz#md5=31d674807a733ba51253d884f7e5db70\n",
      "Processing requests-oauthlib-0.6.0.tar.gz\n",
      "Writing c:\\users\\chinmay\\appdata\\local\\temp\\easy_install-rlywel\\requests-oauthlib-0.6.0\\setup.cfg\n",
      "Running requests-oauthlib-0.6.0\\setup.py -q bdist_egg --dist-dir c:\\users\\chinmay\\appdata\\local\\temp\\easy_install-rlywel\\requests-oauthlib-0.6.0\\egg-dist-tmp-ndsfdl\n"
     ]
    },
    {
     "name": "stderr",
     "output_type": "stream",
     "text": [
      "no previously-included directories found matching '*.pyc'\n"
     ]
    },
    {
     "name": "stdout",
     "output_type": "stream",
     "text": [
      "creating c:\\users\\chinmay\\appdata\\local\\dato\\dato launcher\\lib\\site-packages\\requests_oauthlib-0.6.0-py2.7.egg\n",
      "Extracting requests_oauthlib-0.6.0-py2.7.egg to c:\\users\\chinmay\\appdata\\local\\dato\\dato launcher\\lib\\site-packages\n",
      "Adding requests-oauthlib 0.6.0 to easy-install.pth file\n",
      "\n",
      "Installed c:\\users\\chinmay\\appdata\\local\\dato\\dato launcher\\lib\\site-packages\\requests_oauthlib-0.6.0-py2.7.egg\n",
      "Searching for requests>=2.4.3\n",
      "Reading https://pypi.python.org/simple/requests/\n",
      "Best match: requests 2.9.1\n",
      "Downloading https://pypi.python.org/packages/source/r/requests/requests-2.9.1.tar.gz#md5=0b7f480d19012ec52bab78292efd976d\n",
      "Processing requests-2.9.1.tar.gz\n",
      "Writing c:\\users\\chinmay\\appdata\\local\\temp\\easy_install-xfd6ju\\requests-2.9.1\\setup.cfg\n",
      "Running requests-2.9.1\\setup.py -q bdist_egg --dist-dir c:\\users\\chinmay\\appdata\\local\\temp\\easy_install-xfd6ju\\requests-2.9.1\\egg-dist-tmp-6oih85\n",
      "creating c:\\users\\chinmay\\appdata\\local\\dato\\dato launcher\\lib\\site-packages\\requests-2.9.1-py2.7.egg\n",
      "Extracting requests-2.9.1-py2.7.egg to c:\\users\\chinmay\\appdata\\local\\dato\\dato launcher\\lib\\site-packages\n",
      "Adding requests 2.9.1 to easy-install.pth file\n",
      "\n",
      "Installed c:\\users\\chinmay\\appdata\\local\\dato\\dato launcher\\lib\\site-packages\\requests-2.9.1-py2.7.egg\n",
      "Searching for oauthlib>=0.6.2\n",
      "Reading https://pypi.python.org/simple/oauthlib/\n",
      "Best match: oauthlib 1.0.3\n",
      "Downloading https://pypi.python.org/packages/source/o/oauthlib/oauthlib-1.0.3.tar.gz#md5=02772867bf246b3b37f4ed22786c41f5\n",
      "Processing oauthlib-1.0.3.tar.gz\n",
      "Writing c:\\users\\chinmay\\appdata\\local\\temp\\easy_install-exs5ki\\oauthlib-1.0.3\\setup.cfg\n",
      "Running oauthlib-1.0.3\\setup.py -q bdist_egg --dist-dir c:\\users\\chinmay\\appdata\\local\\temp\\easy_install-exs5ki\\oauthlib-1.0.3\\egg-dist-tmp-jywlxm\n"
     ]
    },
    {
     "name": "stderr",
     "output_type": "stream",
     "text": [
      "zip_safe flag not set; analyzing archive contents...\n"
     ]
    },
    {
     "name": "stdout",
     "output_type": "stream",
     "text": [
      "Moving oauthlib-1.0.3-py2.7.egg to c:\\users\\chinmay\\appdata\\local\\dato\\dato launcher\\lib\\site-packages\n",
      "Adding oauthlib 1.0.3 to easy-install.pth file\n",
      "\n",
      "Installed c:\\users\\chinmay\\appdata\\local\\dato\\dato launcher\\lib\\site-packages\\oauthlib-1.0.3-py2.7.egg\n",
      "Searching for six==1.10.0\n",
      "Best match: six 1.10.0\n",
      "Adding six 1.10.0 to easy-install.pth file\n",
      "\n",
      "Using c:\\users\\chinmay\\appdata\\local\\dato\\dato launcher\\lib\\site-packages\n",
      "Finished processing dependencies for tweepy==3.5.0\n"
     ]
    }
   ],
   "source": [
    "run setup.py install"
   ]
  },
  {
   "cell_type": "code",
   "execution_count": 16,
   "metadata": {
    "collapsed": false
   },
   "outputs": [
    {
     "ename": "ImportError",
     "evalue": "No module named requests_oauthlib",
     "output_type": "error",
     "traceback": [
      "\u001b[1;31m---------------------------------------------------------------------------\u001b[0m",
      "\u001b[1;31mImportError\u001b[0m                               Traceback (most recent call last)",
      "\u001b[1;32m<ipython-input-16-9d8dd8a91c0e>\u001b[0m in \u001b[0;36m<module>\u001b[1;34m()\u001b[0m\n\u001b[1;32m----> 1\u001b[1;33m \u001b[1;32mimport\u001b[0m \u001b[0mtweepy\u001b[0m\u001b[1;33m\u001b[0m\u001b[0m\n\u001b[0m",
      "\u001b[1;32mC:\\Users\\cHinmaY\\tweepy\\tweepy\\__init__.py\u001b[0m in \u001b[0;36m<module>\u001b[1;34m()\u001b[0m\n\u001b[0;32m     14\u001b[0m \u001b[1;32mfrom\u001b[0m \u001b[0mtweepy\u001b[0m\u001b[1;33m.\u001b[0m\u001b[0mapi\u001b[0m \u001b[1;32mimport\u001b[0m \u001b[0mAPI\u001b[0m\u001b[1;33m\u001b[0m\u001b[0m\n\u001b[0;32m     15\u001b[0m \u001b[1;32mfrom\u001b[0m \u001b[0mtweepy\u001b[0m\u001b[1;33m.\u001b[0m\u001b[0mcache\u001b[0m \u001b[1;32mimport\u001b[0m \u001b[0mCache\u001b[0m\u001b[1;33m,\u001b[0m \u001b[0mMemoryCache\u001b[0m\u001b[1;33m,\u001b[0m \u001b[0mFileCache\u001b[0m\u001b[1;33m\u001b[0m\u001b[0m\n\u001b[1;32m---> 16\u001b[1;33m \u001b[1;32mfrom\u001b[0m \u001b[0mtweepy\u001b[0m\u001b[1;33m.\u001b[0m\u001b[0mauth\u001b[0m \u001b[1;32mimport\u001b[0m \u001b[0mOAuthHandler\u001b[0m\u001b[1;33m,\u001b[0m \u001b[0mAppAuthHandler\u001b[0m\u001b[1;33m\u001b[0m\u001b[0m\n\u001b[0m\u001b[0;32m     17\u001b[0m \u001b[1;32mfrom\u001b[0m \u001b[0mtweepy\u001b[0m\u001b[1;33m.\u001b[0m\u001b[0mstreaming\u001b[0m \u001b[1;32mimport\u001b[0m \u001b[0mStream\u001b[0m\u001b[1;33m,\u001b[0m \u001b[0mStreamListener\u001b[0m\u001b[1;33m\u001b[0m\u001b[0m\n\u001b[0;32m     18\u001b[0m \u001b[1;32mfrom\u001b[0m \u001b[0mtweepy\u001b[0m\u001b[1;33m.\u001b[0m\u001b[0mcursor\u001b[0m \u001b[1;32mimport\u001b[0m \u001b[0mCursor\u001b[0m\u001b[1;33m\u001b[0m\u001b[0m\n",
      "\u001b[1;32mC:\\Users\\cHinmaY\\tweepy\\tweepy\\auth.py\u001b[0m in \u001b[0;36m<module>\u001b[1;34m()\u001b[0m\n\u001b[0;32m      7\u001b[0m \u001b[1;32mfrom\u001b[0m \u001b[0mtweepy\u001b[0m\u001b[1;33m.\u001b[0m\u001b[0mapi\u001b[0m \u001b[1;32mimport\u001b[0m \u001b[0mAPI\u001b[0m\u001b[1;33m\u001b[0m\u001b[0m\n\u001b[0;32m      8\u001b[0m \u001b[1;32mimport\u001b[0m \u001b[0mrequests\u001b[0m\u001b[1;33m\u001b[0m\u001b[0m\n\u001b[1;32m----> 9\u001b[1;33m \u001b[1;32mfrom\u001b[0m \u001b[0mrequests_oauthlib\u001b[0m \u001b[1;32mimport\u001b[0m \u001b[0mOAuth1Session\u001b[0m\u001b[1;33m,\u001b[0m \u001b[0mOAuth1\u001b[0m\u001b[1;33m\u001b[0m\u001b[0m\n\u001b[0m\u001b[0;32m     10\u001b[0m \u001b[1;32mfrom\u001b[0m \u001b[0mrequests\u001b[0m\u001b[1;33m.\u001b[0m\u001b[0mauth\u001b[0m \u001b[1;32mimport\u001b[0m \u001b[0mAuthBase\u001b[0m\u001b[1;33m\u001b[0m\u001b[0m\n\u001b[0;32m     11\u001b[0m \u001b[1;32mfrom\u001b[0m \u001b[0msix\u001b[0m\u001b[1;33m.\u001b[0m\u001b[0mmoves\u001b[0m\u001b[1;33m.\u001b[0m\u001b[0murllib\u001b[0m\u001b[1;33m.\u001b[0m\u001b[0mparse\u001b[0m \u001b[1;32mimport\u001b[0m \u001b[0mparse_qs\u001b[0m\u001b[1;33m\u001b[0m\u001b[0m\n",
      "\u001b[1;31mImportError\u001b[0m: No module named requests_oauthlib"
     ]
    }
   ],
   "source": [
    "import tweepy"
   ]
  },
  {
   "cell_type": "code",
   "execution_count": null,
   "metadata": {
    "collapsed": true
   },
   "outputs": [],
   "source": []
  }
 ],
 "metadata": {
  "kernelspec": {
   "display_name": "Python 2",
   "language": "python",
   "name": "python2"
  },
  "language_info": {
   "codemirror_mode": {
    "name": "ipython",
    "version": 2
   },
   "file_extension": ".py",
   "mimetype": "text/x-python",
   "name": "python",
   "nbconvert_exporter": "python",
   "pygments_lexer": "ipython2",
   "version": "2.7.10"
  }
 },
 "nbformat": 4,
 "nbformat_minor": 0
}
